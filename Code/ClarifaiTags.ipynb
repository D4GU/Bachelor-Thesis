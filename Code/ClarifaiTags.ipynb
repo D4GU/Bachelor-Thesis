{
 "cells": [
  {
   "cell_type": "code",
   "execution_count": 1,
   "metadata": {},
   "outputs": [],
   "source": [
    "import json\n",
    "import pandas\n",
    "import re\n",
    "import string\n",
    "import time\n",
    "import pandas as pd\n",
    "import os.path\n",
    "import time\n",
    "import pickle\n",
    "\n",
    "from clarifai.rest import ClarifaiApp"
   ]
  },
  {
   "cell_type": "code",
   "execution_count": 2,
   "metadata": {},
   "outputs": [],
   "source": [
    "# Running/Saving this again might mess with the existing Results because of model updates, \n",
    "# also using relative paths might not work i've only used it with the fixed ones to the picture location."
   ]
  },
  {
   "cell_type": "code",
   "execution_count": 3,
   "metadata": {},
   "outputs": [],
   "source": [
    "app = ClarifaiApp(api_key = \"dd0105c9feed42db942bc5cbf24ed3ce\")"
   ]
  },
  {
   "cell_type": "code",
   "execution_count": 4,
   "metadata": {},
   "outputs": [],
   "source": [
    "def cut_mediaId(urlStr):\n",
    "    p = re.compile(\"\\/(\\d\\S*)(.jpg|.mp4)\")\n",
    "    result = p.search(urlStr)\n",
    "    idString = result.group(1)\n",
    "    return idString\n",
    "\n",
    "def createLocationList(IdList,location, dataType):\n",
    "    tempList = []\n",
    "    for item in IdList:\n",
    "        temp = location + item + dataType\n",
    "        tempList.append(temp)\n",
    "    return tempList\n",
    "\n",
    "def checkForMissing(locations):\n",
    "    for item in locations:\n",
    "        if(os.path.isfile(item) == False):\n",
    "            return print(\"Missing: \"+ item)\n",
    "    return print(\"All is well\")\n",
    "\n",
    "def getConceptsI(model, fileLocationList, dumpName):\n",
    "    listDictionary = []\n",
    "    dictionary = {}\n",
    "    \n",
    "    counter = 0\n",
    "    for item in fileLocationList:\n",
    "        print(counter)\n",
    "        listDictionary.append({})\n",
    "        pred = model.predict_by_filename(item, None, is_video = False, min_value = 0.8, max_concepts = 20)\n",
    "        try:\n",
    "            listDictionary[counter][cut_mediaId(item)]= pred['outputs'][0]['data']['concepts']\n",
    "        except KeyError:\n",
    "            listDictionary[counter][cut_mediaId(item)]= pred['outputs'][0]['data']\n",
    "        counter += 1\n",
    "        with open(dumpName, 'w') as outfile:\n",
    "            json.dump(listDictionary , outfile)  \n",
    "    return listDictionary\n",
    "                      \n",
    "def getConceptsV(model, fileLocationList, dumpName):\n",
    "    listDictionary = []\n",
    "    dictionary = {}\n",
    "    \n",
    "    counter = 0\n",
    "    for item in fileLocationList:\n",
    "        print(counter)\n",
    "        listDictionary.append({})\n",
    "        pred = model.predict_by_filename(item, None, is_video = True, min_value = 0.8, max_concepts = 20, sample_ms = 1000)\n",
    "        listDictionary[counter][cut_mediaId(item)]= pred['outputs'][0]['data']['frames']\n",
    "        counter += 1\n",
    "        with open(dumpName, 'w') as outfile:\n",
    "            json.dump(listDictionary , outfile)  \n",
    "    return listDictionary"
   ]
  },
  {
   "cell_type": "code",
   "execution_count": 20,
   "metadata": {},
   "outputs": [],
   "source": [
    "pickle_off = open(\"..\\\\ProcessedData\\\\B0.pickle\",\"rb\")\n",
    "b0 = pickle.load(pickle_off)\n",
    "pickle_off.close()\n",
    "\n",
    "pickle_off = open(\"..\\\\ProcessedData\\\\B1.pickle\",\"rb\")\n",
    "b1 = pickle.load(pickle_off)\n",
    "pickle_off.close()"
   ]
  },
  {
   "cell_type": "code",
   "execution_count": 27,
   "metadata": {},
   "outputs": [
    {
     "data": {
      "text/plain": [
       "'C:/Users/Daniel/Desktop/BTData/RawData/B1/Media/'"
      ]
     },
     "execution_count": 27,
     "metadata": {},
     "output_type": "execute_result"
    }
   ],
   "source": [
    "#Getting relative Paths to pictures, not tested\n",
    "pathB0 = os.path.abspath(\"..\\\\RawData\\\\B0\\\\Media\") + \"\\\\\"\n",
    "pathB0.replace('\\\\', '/')\n",
    "\n",
    "pathB1 = os.path.abspath(\"..\\\\RawData\\\\B1\\\\Media\") + \"\\\\\"\n",
    "pathB1.replace('\\\\', '/')"
   ]
  },
  {
   "cell_type": "code",
   "execution_count": 28,
   "metadata": {},
   "outputs": [],
   "source": [
    "#Defining Paths to Videos\n",
    "locationViB0 = pathB0\n",
    "locationViB1 = pathB1\n",
    "\n",
    "locationsViB0 = createLocationList(b0.query('Video == True')['MediaId'].tolist(), locationViB0,\".mp4\")\n",
    "locationsViB1 = createLocationList(b1.query('Video == True')['MediaId'].tolist(), locationViB1, \".mp4\")"
   ]
  },
  {
   "cell_type": "code",
   "execution_count": 30,
   "metadata": {},
   "outputs": [],
   "source": [
    "#Defining Paths to Images\n",
    "locationImB0 = pathB0\n",
    "locationImB1 = pathB1\n",
    "\n",
    "locationsImB0 = createLocationList(b0.query('Video == False')['MediaId'].tolist(), locationImB0, \".jpg\")\n",
    "locationsImB1 = createLocationList(b1.query('Video == False')['MediaId'].tolist(), locationImB1, \".jpg\")"
   ]
  },
  {
   "cell_type": "code",
   "execution_count": 31,
   "metadata": {},
   "outputs": [
    {
     "name": "stdout",
     "output_type": "stream",
     "text": [
      "All is well\n",
      "All is well\n",
      "All is well\n",
      "All is well\n"
     ]
    }
   ],
   "source": [
    "#Check if Media exists in Location\n",
    "checkForMissing(locationsImB0)\n",
    "checkForMissing(locationsImB1)\n",
    "checkForMissing(locationsViB0)\n",
    "checkForMissing(locationsViB1)\n"
   ]
  },
  {
   "cell_type": "code",
   "execution_count": 5,
   "metadata": {
    "collapsed": true,
    "jupyter": {
     "outputs_hidden": true
    }
   },
   "outputs": [
    {
     "name": "stdout",
     "output_type": "stream",
     "text": [
      "language-understanding\n",
      "ff469a579b7d4423b6204e4655f5f9d9\n",
      "room-types\n",
      "def7f8f57be14c468d22d3a8601c421e\n",
      "photos-by-decade\n",
      "85d43448354b48efbf3f1ee9023d8c7f\n",
      "popular-social-media-shots\n",
      "ec1a83811e0d4a60a2e8a958ed133bef\n",
      "Audio Embedder\n",
      "fedcc08b2b72481aa17d4b8153570cc1\n",
      "Face\n",
      "f76196b43bbd45c99b4f3cd8e8b40a8a\n",
      "Celebrity\n",
      "cfbb105cb8f54907bb8d553d68d9fe20\n",
      "Celebrity\n",
      "3920518f06ca4d13bbbec5505236d089\n",
      "Speech To Text - English\n",
      "2c1050ead1b24472be8033f5fd421f3d\n",
      "Person Tracker\n",
      "c9d65bb4f86c487b848e9400725168d4\n",
      "General Detection V2\n",
      "9f54c0342741574068ec696ddbebd699\n",
      "multicultural-appearance\n",
      "93c277ec3940fba661491fda4d3ccfa0\n",
      "gender-appearance\n",
      "af40a692dfe6040f23ca656f4e144fc2\n",
      "age-appearance\n",
      "36f90889189ad96c516d134bc713004d\n",
      "Text-Moderation\n",
      "39f2950a32173f61b3eb40ede0d254e1\n",
      "Text-Moderation\n",
      "c1a2ac2adba0204d859fb89fd44d6ac9\n",
      "Visual Text Recognition\n",
      "9fe78b4150a52794f86f237770141b33\n",
      "Visual Text Detection\n",
      "2419e2eae04d04f820e5cf3aba42d0c7\n",
      "1.0 Cropper\n",
      "ce3f5832af7a4e56ae310d696cbbefd8\n",
      "1.5 Cropper\n",
      "af7e9b54da234b93b82a129ceb9a2a25\n",
      "1.1 Cropper\n",
      "3ed1aff251be4fe59c2bbaff0bb2e797\n",
      "face-v3.1-cluster\n",
      "53e1df302c079b3db8a0a36033ed2d15\n",
      "face-v3.1\n",
      "e15d0f873e66047e579f90cf82c9882z\n",
      "General Detection\n",
      "cb649131aa72f86911815b0fe98dee55\n",
      "Text Embedding\n",
      "568d48e82924a00d0f98a6d34fa426cf\n",
      "Apparel Detection\n",
      "72c523807f93e18b431676fb9a58e6ad\n",
      "OCR Detection\n",
      "9bff11543fd7e3d3fb215f30ef927ca3\n",
      "general-detect-embed\n",
      "4e572b3439a23a0891636f189aab5b16\n",
      "Portrait Quality\n",
      "de9bd05cfdbf4534af151beb2a5d0953\n",
      "Landscape Quality\n",
      "bec14810deb94c40a05f1f0eb3c91403\n",
      "Textures & Patterns\n",
      "fbefb47f9fdb410e8ce14f24f54b47ff\n",
      "travel-v1.1\n",
      "79fbfbae4e30492b85ab2a8758273d76\n",
      "travel-v1.1\n",
      "65ed5d3713548e1b820a886889b22ad3\n",
      "travel-v1.1\n",
      "6346bfeff978455ab9372476f8ee64b0\n",
      "moderation\n",
      "cccf390eb32cad478c7ae150069bd2c6\n",
      "apparel\n",
      "ccce3b9d6a454f0493ac3a30784001ff\n",
      "nsfw-v1.0\n",
      "ccc76d86d2004ed1a38ba0cf39ecb4b1\n",
      "weddings-v1.0\n",
      "ccc6b7a870114f4a87477c0824499348\n",
      "food-items-v1.0\n",
      "ccc67be194cf45149e75f01d59f77ba7\n",
      "travel-v1.0\n",
      "ccc28c313d69466f836ab83287a54ed9\n",
      "moderation\n",
      "d16f390eb32cad478c7ae150069bd2c6\n",
      "logo\n",
      "c443119bf2ed4da98487520d01a0b1e3\n",
      "apparel\n",
      "e0be3b9d6a454f0493ac3a30784001ff\n",
      "celeb-v1.3\n",
      "e466caa0619f444ab97497640cefc4dc\n",
      "weddings-v1.0\n",
      "c386b7a870114f4a87477c0824499348\n",
      "travel-v1.0\n",
      "eee28c313d69466f836ab83287a54ed9\n",
      "nsfw-v1.0\n",
      "e9576d86d2004ed1a38ba0cf39ecb4b1\n",
      "food-items-v1.0\n",
      "bd367be194cf45149e75f01d59f77ba7\n",
      "general\n",
      "cccbe437d6e54e2bb911c6aa292fb072\n",
      "general\n",
      "bbb5f41425b8468d9b7a554ff10f8581\n",
      "color\n",
      "eeed0b6733a644cea07cf4c60f87ebb7\n",
      "general\n",
      "aaa03c23b3724a16a56b629203edc62c\n",
      "covid19_price_gouging\n",
      "price_gouging\n",
      "mask-nomask\n",
      "mask-nomask\n",
      "Food Quality\n",
      "Food_Quality\n"
     ]
    }
   ],
   "source": [
    "#Get Model name & code\n",
    "for model in app.models.get_all():\n",
    "    print(model.model_name)\n",
    "    print(model.model_id)"
   ]
  },
  {
   "cell_type": "code",
   "execution_count": 128,
   "metadata": {},
   "outputs": [],
   "source": [
    "#Define Model\n",
    "genModel = app.models.get(\"General\")"
   ]
  },
  {
   "cell_type": "code",
   "execution_count": null,
   "metadata": {},
   "outputs": [],
   "source": [
    "#Next Section gets concepts and creates dumps, will overwrite data!"
   ]
  },
  {
   "cell_type": "code",
   "execution_count": 129,
   "metadata": {},
   "outputs": [],
   "source": [
    "# b1PredI = getConceptsI(genModel, locationsImW, \"..\\\\ProcessedData\\\\Clarifai\\\\B1Pred.json\")"
   ]
  },
  {
   "cell_type": "code",
   "execution_count": 130,
   "metadata": {},
   "outputs": [],
   "source": [
    "# b0PredI = getConceptsI(genModel, locationsImU, \"..\\\\ProcessedData\\\\Clarifai\\\\B0Pred.json\")\n"
   ]
  },
  {
   "cell_type": "code",
   "execution_count": 131,
   "metadata": {},
   "outputs": [],
   "source": [
    "# b1PredV = getConceptsV(genModel, locationsViW, \"..\\\\ProcessedData\\\\Clarifai\\\\B1PredV.json\")\n"
   ]
  },
  {
   "cell_type": "code",
   "execution_count": 132,
   "metadata": {},
   "outputs": [],
   "source": [
    "# b0PredV = getConceptsV(genModel, locationsViU, \"..\\\\ProcessedData\\\\Clarifai\\\\B0PredV.json\")"
   ]
  }
 ],
 "metadata": {
  "kernelspec": {
   "display_name": "Python 3",
   "language": "python",
   "name": "python3"
  },
  "language_info": {
   "codemirror_mode": {
    "name": "ipython",
    "version": 3
   },
   "file_extension": ".py",
   "mimetype": "text/x-python",
   "name": "python",
   "nbconvert_exporter": "python",
   "pygments_lexer": "ipython3",
   "version": "3.8.3"
  }
 },
 "nbformat": 4,
 "nbformat_minor": 4
}
